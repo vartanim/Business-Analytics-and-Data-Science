{
  "nbformat": 4,
  "nbformat_minor": 0,
  "metadata": {
    "colab": {
      "name": "Untitled0.ipynb",
      "provenance": [],
      "collapsed_sections": [],
      "authorship_tag": "ABX9TyMOU+0yzDgLFclRApXSzQfY",
      "include_colab_link": true
    },
    "kernelspec": {
      "name": "python3",
      "display_name": "Python 3"
    },
    "language_info": {
      "name": "python"
    }
  },
  "cells": [
    {
      "cell_type": "markdown",
      "metadata": {
        "id": "view-in-github",
        "colab_type": "text"
      },
      "source": [
        "<a href=\"https://colab.research.google.com/github/vartanim/data-for-assignment/blob/main/Untitled02.ipynb\" target=\"_parent\"><img src=\"https://colab.research.google.com/assets/colab-badge.svg\" alt=\"Open In Colab\"/></a>"
      ]
    },
    {
      "cell_type": "markdown",
      "metadata": {
        "id": "I7nCF8g1kgLa"
      },
      "source": [
        "Import some libraries that I will need later. "
      ]
    },
    {
      "cell_type": "code",
      "metadata": {
        "id": "hlcH6zsFkCsB"
      },
      "source": [
        "import numpy as np \n",
        "import pandas as pd \n",
        "import seaborn as sns\n",
        "import matplotlib.pyplot as plt\n",
        "import os \n",
        "import datetime as dt\n",
        "%matplotlib inline  \n",
        "plt.rcParams[\"figure.figsize\"] = (12,6)"
      ],
      "execution_count": null,
      "outputs": []
    },
    {
      "cell_type": "markdown",
      "metadata": {
        "id": "SoVeeyo2kGaW"
      },
      "source": [
        "Load the data from Github. The files with and without a target variable will be referred to as df_known and df_unknown, respectively."
      ]
    },
    {
      "cell_type": "code",
      "metadata": {
        "id": "Ficbyg9qltwL",
        "colab": {
          "base_uri": "https://localhost:8080/",
          "height": 204
        },
        "outputId": "16c016b3-4367-4b6a-cfab-083fb77dd926"
      },
      "source": [
        "file_known = 'https://raw.githubusercontent.com/vartanim/data-for-assignment/main/BADS_WS2021_known.csv'\n",
        "df_known = pd.read_csv(file_known)\n",
        "file_unknown = 'https://raw.githubusercontent.com/vartanim/data-for-assignment/main/BADS_WS2021_unknown.csv'\n",
        "df_unknown = pd.read_csv(file_unknown)\n",
        "\n",
        "df_known.describe(include='all')\n",
        "df_known.head(n=5)"
      ],
      "execution_count": null,
      "outputs": [
        {
          "output_type": "execute_result",
          "data": {
            "text/html": [
              "<div>\n",
              "<style scoped>\n",
              "    .dataframe tbody tr th:only-of-type {\n",
              "        vertical-align: middle;\n",
              "    }\n",
              "\n",
              "    .dataframe tbody tr th {\n",
              "        vertical-align: top;\n",
              "    }\n",
              "\n",
              "    .dataframe thead th {\n",
              "        text-align: right;\n",
              "    }\n",
              "</style>\n",
              "<table border=\"1\" class=\"dataframe\">\n",
              "  <thead>\n",
              "    <tr style=\"text-align: right;\">\n",
              "      <th></th>\n",
              "      <th>order_item_id</th>\n",
              "      <th>order_date</th>\n",
              "      <th>delivery_date</th>\n",
              "      <th>item_id</th>\n",
              "      <th>item_size</th>\n",
              "      <th>item_color</th>\n",
              "      <th>brand_id</th>\n",
              "      <th>item_price</th>\n",
              "      <th>user_id</th>\n",
              "      <th>user_title</th>\n",
              "      <th>user_dob</th>\n",
              "      <th>user_state</th>\n",
              "      <th>user_reg_date</th>\n",
              "      <th>return</th>\n",
              "    </tr>\n",
              "  </thead>\n",
              "  <tbody>\n",
              "    <tr>\n",
              "      <th>0</th>\n",
              "      <td>1</td>\n",
              "      <td>2016-06-22</td>\n",
              "      <td>2016-06-27</td>\n",
              "      <td>643</td>\n",
              "      <td>38</td>\n",
              "      <td>navy</td>\n",
              "      <td>30</td>\n",
              "      <td>49.90</td>\n",
              "      <td>30822</td>\n",
              "      <td>Mrs</td>\n",
              "      <td>1969-04-17</td>\n",
              "      <td>Saxony</td>\n",
              "      <td>2016-06-23</td>\n",
              "      <td>0</td>\n",
              "    </tr>\n",
              "    <tr>\n",
              "      <th>1</th>\n",
              "      <td>2</td>\n",
              "      <td>2016-06-22</td>\n",
              "      <td>NaN</td>\n",
              "      <td>337</td>\n",
              "      <td>152</td>\n",
              "      <td>grey</td>\n",
              "      <td>30</td>\n",
              "      <td>19.95</td>\n",
              "      <td>30822</td>\n",
              "      <td>Mrs</td>\n",
              "      <td>1969-04-17</td>\n",
              "      <td>Saxony</td>\n",
              "      <td>2016-06-23</td>\n",
              "      <td>0</td>\n",
              "    </tr>\n",
              "    <tr>\n",
              "      <th>2</th>\n",
              "      <td>3</td>\n",
              "      <td>2016-06-22</td>\n",
              "      <td>2016-06-27</td>\n",
              "      <td>270</td>\n",
              "      <td>xxl</td>\n",
              "      <td>grey</td>\n",
              "      <td>49</td>\n",
              "      <td>79.90</td>\n",
              "      <td>30823</td>\n",
              "      <td>Mrs</td>\n",
              "      <td>1970-04-22</td>\n",
              "      <td>Baden-Wuerttemberg</td>\n",
              "      <td>2015-03-15</td>\n",
              "      <td>1</td>\n",
              "    </tr>\n",
              "    <tr>\n",
              "      <th>3</th>\n",
              "      <td>4</td>\n",
              "      <td>2016-06-22</td>\n",
              "      <td>2016-06-27</td>\n",
              "      <td>142</td>\n",
              "      <td>xxl</td>\n",
              "      <td>grey</td>\n",
              "      <td>49</td>\n",
              "      <td>99.90</td>\n",
              "      <td>30823</td>\n",
              "      <td>Mrs</td>\n",
              "      <td>1970-04-22</td>\n",
              "      <td>Baden-Wuerttemberg</td>\n",
              "      <td>2015-03-15</td>\n",
              "      <td>0</td>\n",
              "    </tr>\n",
              "    <tr>\n",
              "      <th>4</th>\n",
              "      <td>5</td>\n",
              "      <td>2016-06-22</td>\n",
              "      <td>2016-06-27</td>\n",
              "      <td>561</td>\n",
              "      <td>xxl</td>\n",
              "      <td>grey</td>\n",
              "      <td>3</td>\n",
              "      <td>14.90</td>\n",
              "      <td>30823</td>\n",
              "      <td>Mrs</td>\n",
              "      <td>1970-04-22</td>\n",
              "      <td>Baden-Wuerttemberg</td>\n",
              "      <td>2015-03-15</td>\n",
              "      <td>1</td>\n",
              "    </tr>\n",
              "  </tbody>\n",
              "</table>\n",
              "</div>"
            ],
            "text/plain": [
              "   order_item_id  order_date  ... user_reg_date  return\n",
              "0              1  2016-06-22  ...    2016-06-23       0\n",
              "1              2  2016-06-22  ...    2016-06-23       0\n",
              "2              3  2016-06-22  ...    2015-03-15       1\n",
              "3              4  2016-06-22  ...    2015-03-15       0\n",
              "4              5  2016-06-22  ...    2015-03-15       1\n",
              "\n",
              "[5 rows x 14 columns]"
            ]
          },
          "metadata": {
            "tags": []
          },
          "execution_count": 3
        }
      ]
    },
    {
      "cell_type": "markdown",
      "metadata": {
        "id": "GGxzjU-q6OXn"
      },
      "source": [
        "In further steps, I analyse and prepare both data separately: first, the known data, second, the unknown. "
      ]
    },
    {
      "cell_type": "markdown",
      "metadata": {
        "id": "je-llO25AIsg"
      },
      "source": [
        "Aggretating and grouping"
      ]
    },
    {
      "cell_type": "code",
      "metadata": {
        "id": "FeS4jTpmna_E",
        "colab": {
          "base_uri": "https://localhost:8080/"
        },
        "outputId": "288f53a8-258b-4b97-c463-a8adf40f6505"
      },
      "source": [
        "# calculate the mean price at which an item is returned or kept. \n",
        "df_known.groupby(\"return\") [\"item_price\"].mean()"
      ],
      "execution_count": null,
      "outputs": [
        {
          "output_type": "execute_result",
          "data": {
            "text/plain": [
              "return\n",
              "0    58.882494\n",
              "1    72.375447\n",
              "Name: item_price, dtype: float64"
            ]
          },
          "metadata": {
            "tags": []
          },
          "execution_count": 4
        }
      ]
    },
    {
      "cell_type": "markdown",
      "metadata": {
        "id": "NYbmyUtfpPgf"
      },
      "source": [
        "# **Data preparation** \n",
        "\n",
        "\n",
        "Begin with altering data types"
      ]
    },
    {
      "cell_type": "code",
      "metadata": {
        "id": "GQaLxyR-Z7EL",
        "colab": {
          "base_uri": "https://localhost:8080/"
        },
        "outputId": "dcbc7528-71ce-4484-d82b-3a81db74c582"
      },
      "source": [
        "df_known.info()"
      ],
      "execution_count": null,
      "outputs": [
        {
          "output_type": "stream",
          "text": [
            "<class 'pandas.core.frame.DataFrame'>\n",
            "RangeIndex: 100000 entries, 0 to 99999\n",
            "Data columns (total 14 columns):\n",
            " #   Column         Non-Null Count   Dtype  \n",
            "---  ------         --------------   -----  \n",
            " 0   order_item_id  100000 non-null  int64  \n",
            " 1   order_date     100000 non-null  object \n",
            " 2   delivery_date  90682 non-null   object \n",
            " 3   item_id        100000 non-null  int64  \n",
            " 4   item_size      100000 non-null  object \n",
            " 5   item_color     100000 non-null  object \n",
            " 6   brand_id       100000 non-null  int64  \n",
            " 7   item_price     100000 non-null  float64\n",
            " 8   user_id        100000 non-null  int64  \n",
            " 9   user_title     100000 non-null  object \n",
            " 10  user_dob       91275 non-null   object \n",
            " 11  user_state     100000 non-null  object \n",
            " 12  user_reg_date  100000 non-null  object \n",
            " 13  return         100000 non-null  int64  \n",
            "dtypes: float64(1), int64(5), object(8)\n",
            "memory usage: 10.7+ MB\n"
          ],
          "name": "stdout"
        }
      ]
    },
    {
      "cell_type": "markdown",
      "metadata": {
        "id": "48Rws-Rppap0"
      },
      "source": [
        "Features: order date, delivery date, item size, item color, as well as user title, date of birth, state and registration date are stored as objects. In order for them to take less memory and to not reduce functionality, I will alter their types."
      ]
    },
    {
      "cell_type": "code",
      "metadata": {
        "id": "ZRJ1yRLz3k6F"
      },
      "source": [
        "# change features with dates to datetime type.\n",
        "df_known['order_date']= pd.to_datetime(df_known['order_date'])\n",
        "df_known['delivery_date']= pd.to_datetime(df_known['delivery_date'])\n",
        "df_known['user_dob']= pd.to_datetime(df_known['user_dob'])\n",
        "df_known['user_reg_date']= pd.to_datetime(df_known['user_reg_date'])"
      ],
      "execution_count": null,
      "outputs": []
    },
    {
      "cell_type": "code",
      "metadata": {
        "colab": {
          "base_uri": "https://localhost:8080/"
        },
        "id": "03LbVqF_ugNI",
        "outputId": "295e5442-0b0a-4d6e-deab-22cb542ca4ce"
      },
      "source": [
        "# change type for categorical variables. \n",
        "df_known['item_size'] = df_known['item_size'].astype('category')\n",
        "df_known['item_color'] = df_known['item_color'].astype('category')\n",
        "df_known['user_title'] = df_known['user_title'].astype('category')\n",
        "df_known['user_state'] = df_known['user_state'].astype('category')\n",
        "\n",
        "# change target variable type from integer to boolean \n",
        "df_known['return'] = df_known['return'].astype('bool')\n",
        "# downcast floats and integers to 32 bit precision\n",
        "num_vars = df_known.select_dtypes(include=np.float64).columns\n",
        "df_known[num_vars] = df_known[num_vars].astype(np.float32)\n",
        "num_vars = df_known.select_dtypes(include=np.int64).columns\n",
        "df_known[num_vars] = df_known[num_vars].astype(np.int32)\n",
        "\n",
        "# make sure data types are changed properly\n",
        "df_known.info()"
      ],
      "execution_count": null,
      "outputs": [
        {
          "output_type": "stream",
          "text": [
            "<class 'pandas.core.frame.DataFrame'>\n",
            "RangeIndex: 100000 entries, 0 to 99999\n",
            "Data columns (total 14 columns):\n",
            " #   Column         Non-Null Count   Dtype         \n",
            "---  ------         --------------   -----         \n",
            " 0   order_item_id  100000 non-null  int32         \n",
            " 1   order_date     100000 non-null  datetime64[ns]\n",
            " 2   delivery_date  90682 non-null   datetime64[ns]\n",
            " 3   item_id        100000 non-null  int32         \n",
            " 4   item_size      100000 non-null  category      \n",
            " 5   item_color     100000 non-null  category      \n",
            " 6   brand_id       100000 non-null  int32         \n",
            " 7   item_price     100000 non-null  float32       \n",
            " 8   user_id        100000 non-null  int32         \n",
            " 9   user_title     100000 non-null  category      \n",
            " 10  user_dob       91275 non-null   datetime64[ns]\n",
            " 11  user_state     100000 non-null  category      \n",
            " 12  user_reg_date  100000 non-null  datetime64[ns]\n",
            " 13  return         100000 non-null  bool          \n",
            "dtypes: bool(1), category(4), datetime64[ns](4), float32(1), int32(4)\n",
            "memory usage: 5.4 MB\n"
          ],
          "name": "stdout"
        }
      ]
    },
    {
      "cell_type": "markdown",
      "metadata": {
        "id": "_WT_o7Vu7vzh"
      },
      "source": [
        "As a result, consumption of memory is reduced almost twice. "
      ]
    },
    {
      "cell_type": "markdown",
      "metadata": {
        "id": "3_BuJOOD9Wem"
      },
      "source": [
        "Missing values"
      ]
    },
    {
      "cell_type": "code",
      "metadata": {
        "id": "eBr2WS3NzvTY",
        "colab": {
          "base_uri": "https://localhost:8080/",
          "height": 419
        },
        "outputId": "ca8b23d5-ad3b-416b-e7ad-bad7c2f7a437"
      },
      "source": [
        "df_known.isna()"
      ],
      "execution_count": null,
      "outputs": [
        {
          "output_type": "execute_result",
          "data": {
            "text/html": [
              "<div>\n",
              "<style scoped>\n",
              "    .dataframe tbody tr th:only-of-type {\n",
              "        vertical-align: middle;\n",
              "    }\n",
              "\n",
              "    .dataframe tbody tr th {\n",
              "        vertical-align: top;\n",
              "    }\n",
              "\n",
              "    .dataframe thead th {\n",
              "        text-align: right;\n",
              "    }\n",
              "</style>\n",
              "<table border=\"1\" class=\"dataframe\">\n",
              "  <thead>\n",
              "    <tr style=\"text-align: right;\">\n",
              "      <th></th>\n",
              "      <th>order_item_id</th>\n",
              "      <th>order_date</th>\n",
              "      <th>delivery_date</th>\n",
              "      <th>item_id</th>\n",
              "      <th>item_size</th>\n",
              "      <th>item_color</th>\n",
              "      <th>brand_id</th>\n",
              "      <th>item_price</th>\n",
              "      <th>user_id</th>\n",
              "      <th>user_title</th>\n",
              "      <th>user_dob</th>\n",
              "      <th>user_state</th>\n",
              "      <th>user_reg_date</th>\n",
              "      <th>return</th>\n",
              "    </tr>\n",
              "  </thead>\n",
              "  <tbody>\n",
              "    <tr>\n",
              "      <th>0</th>\n",
              "      <td>False</td>\n",
              "      <td>False</td>\n",
              "      <td>False</td>\n",
              "      <td>False</td>\n",
              "      <td>False</td>\n",
              "      <td>False</td>\n",
              "      <td>False</td>\n",
              "      <td>False</td>\n",
              "      <td>False</td>\n",
              "      <td>False</td>\n",
              "      <td>False</td>\n",
              "      <td>False</td>\n",
              "      <td>False</td>\n",
              "      <td>False</td>\n",
              "    </tr>\n",
              "    <tr>\n",
              "      <th>1</th>\n",
              "      <td>False</td>\n",
              "      <td>False</td>\n",
              "      <td>True</td>\n",
              "      <td>False</td>\n",
              "      <td>False</td>\n",
              "      <td>False</td>\n",
              "      <td>False</td>\n",
              "      <td>False</td>\n",
              "      <td>False</td>\n",
              "      <td>False</td>\n",
              "      <td>False</td>\n",
              "      <td>False</td>\n",
              "      <td>False</td>\n",
              "      <td>False</td>\n",
              "    </tr>\n",
              "    <tr>\n",
              "      <th>2</th>\n",
              "      <td>False</td>\n",
              "      <td>False</td>\n",
              "      <td>False</td>\n",
              "      <td>False</td>\n",
              "      <td>False</td>\n",
              "      <td>False</td>\n",
              "      <td>False</td>\n",
              "      <td>False</td>\n",
              "      <td>False</td>\n",
              "      <td>False</td>\n",
              "      <td>False</td>\n",
              "      <td>False</td>\n",
              "      <td>False</td>\n",
              "      <td>False</td>\n",
              "    </tr>\n",
              "    <tr>\n",
              "      <th>3</th>\n",
              "      <td>False</td>\n",
              "      <td>False</td>\n",
              "      <td>False</td>\n",
              "      <td>False</td>\n",
              "      <td>False</td>\n",
              "      <td>False</td>\n",
              "      <td>False</td>\n",
              "      <td>False</td>\n",
              "      <td>False</td>\n",
              "      <td>False</td>\n",
              "      <td>False</td>\n",
              "      <td>False</td>\n",
              "      <td>False</td>\n",
              "      <td>False</td>\n",
              "    </tr>\n",
              "    <tr>\n",
              "      <th>4</th>\n",
              "      <td>False</td>\n",
              "      <td>False</td>\n",
              "      <td>False</td>\n",
              "      <td>False</td>\n",
              "      <td>False</td>\n",
              "      <td>False</td>\n",
              "      <td>False</td>\n",
              "      <td>False</td>\n",
              "      <td>False</td>\n",
              "      <td>False</td>\n",
              "      <td>False</td>\n",
              "      <td>False</td>\n",
              "      <td>False</td>\n",
              "      <td>False</td>\n",
              "    </tr>\n",
              "    <tr>\n",
              "      <th>...</th>\n",
              "      <td>...</td>\n",
              "      <td>...</td>\n",
              "      <td>...</td>\n",
              "      <td>...</td>\n",
              "      <td>...</td>\n",
              "      <td>...</td>\n",
              "      <td>...</td>\n",
              "      <td>...</td>\n",
              "      <td>...</td>\n",
              "      <td>...</td>\n",
              "      <td>...</td>\n",
              "      <td>...</td>\n",
              "      <td>...</td>\n",
              "      <td>...</td>\n",
              "    </tr>\n",
              "    <tr>\n",
              "      <th>99995</th>\n",
              "      <td>False</td>\n",
              "      <td>False</td>\n",
              "      <td>False</td>\n",
              "      <td>False</td>\n",
              "      <td>False</td>\n",
              "      <td>False</td>\n",
              "      <td>False</td>\n",
              "      <td>False</td>\n",
              "      <td>False</td>\n",
              "      <td>False</td>\n",
              "      <td>False</td>\n",
              "      <td>False</td>\n",
              "      <td>False</td>\n",
              "      <td>False</td>\n",
              "    </tr>\n",
              "    <tr>\n",
              "      <th>99996</th>\n",
              "      <td>False</td>\n",
              "      <td>False</td>\n",
              "      <td>False</td>\n",
              "      <td>False</td>\n",
              "      <td>False</td>\n",
              "      <td>False</td>\n",
              "      <td>False</td>\n",
              "      <td>False</td>\n",
              "      <td>False</td>\n",
              "      <td>False</td>\n",
              "      <td>False</td>\n",
              "      <td>False</td>\n",
              "      <td>False</td>\n",
              "      <td>False</td>\n",
              "    </tr>\n",
              "    <tr>\n",
              "      <th>99997</th>\n",
              "      <td>False</td>\n",
              "      <td>False</td>\n",
              "      <td>False</td>\n",
              "      <td>False</td>\n",
              "      <td>False</td>\n",
              "      <td>False</td>\n",
              "      <td>False</td>\n",
              "      <td>False</td>\n",
              "      <td>False</td>\n",
              "      <td>False</td>\n",
              "      <td>False</td>\n",
              "      <td>False</td>\n",
              "      <td>False</td>\n",
              "      <td>False</td>\n",
              "    </tr>\n",
              "    <tr>\n",
              "      <th>99998</th>\n",
              "      <td>False</td>\n",
              "      <td>False</td>\n",
              "      <td>False</td>\n",
              "      <td>False</td>\n",
              "      <td>False</td>\n",
              "      <td>False</td>\n",
              "      <td>False</td>\n",
              "      <td>False</td>\n",
              "      <td>False</td>\n",
              "      <td>False</td>\n",
              "      <td>False</td>\n",
              "      <td>False</td>\n",
              "      <td>False</td>\n",
              "      <td>False</td>\n",
              "    </tr>\n",
              "    <tr>\n",
              "      <th>99999</th>\n",
              "      <td>False</td>\n",
              "      <td>False</td>\n",
              "      <td>False</td>\n",
              "      <td>False</td>\n",
              "      <td>False</td>\n",
              "      <td>False</td>\n",
              "      <td>False</td>\n",
              "      <td>False</td>\n",
              "      <td>False</td>\n",
              "      <td>False</td>\n",
              "      <td>False</td>\n",
              "      <td>False</td>\n",
              "      <td>False</td>\n",
              "      <td>False</td>\n",
              "    </tr>\n",
              "  </tbody>\n",
              "</table>\n",
              "<p>100000 rows × 14 columns</p>\n",
              "</div>"
            ],
            "text/plain": [
              "       order_item_id  order_date  ...  user_reg_date  return\n",
              "0              False       False  ...          False   False\n",
              "1              False       False  ...          False   False\n",
              "2              False       False  ...          False   False\n",
              "3              False       False  ...          False   False\n",
              "4              False       False  ...          False   False\n",
              "...              ...         ...  ...            ...     ...\n",
              "99995          False       False  ...          False   False\n",
              "99996          False       False  ...          False   False\n",
              "99997          False       False  ...          False   False\n",
              "99998          False       False  ...          False   False\n",
              "99999          False       False  ...          False   False\n",
              "\n",
              "[100000 rows x 14 columns]"
            ]
          },
          "metadata": {
            "tags": []
          },
          "execution_count": 8
        }
      ]
    },
    {
      "cell_type": "code",
      "metadata": {
        "colab": {
          "base_uri": "https://localhost:8080/"
        },
        "id": "ut8lO2nULVPU",
        "outputId": "794e8539-7c8d-4706-c136-974392b46361"
      },
      "source": [
        "# calculate total number of missing values\n",
        "df_known.isna().sum().sum()"
      ],
      "execution_count": null,
      "outputs": [
        {
          "output_type": "execute_result",
          "data": {
            "text/plain": [
              "18043"
            ]
          },
          "metadata": {
            "tags": []
          },
          "execution_count": 9
        }
      ]
    },
    {
      "cell_type": "code",
      "metadata": {
        "colab": {
          "base_uri": "https://localhost:8080/",
          "height": 456
        },
        "id": "zI_AHEv0L012",
        "outputId": "abec4150-cd1a-4e57-adc6-e74bd72aec09"
      },
      "source": [
        "# a vizualization of missing values in the data \n",
        "sns.heatmap(df_known.isna(), cbar=False)"
      ],
      "execution_count": null,
      "outputs": [
        {
          "output_type": "execute_result",
          "data": {
            "text/plain": [
              "<matplotlib.axes._subplots.AxesSubplot at 0x7f538a539450>"
            ]
          },
          "metadata": {
            "tags": []
          },
          "execution_count": 10
        },
        {
          "output_type": "display_data",
          "data": {
            "image/png": "[encoded data removed]",
            "text/plain": [
              "<Figure size 864x432 with 1 Axes>"
            ]
          },
          "metadata": {
            "tags": [],
            "needs_background": "light"
          }
        }
      ]
    },
    {
      "cell_type": "code",
      "metadata": {
        "id": "zLoN_q8pR8b_"
      },
      "source": [
        "# save a copy of the data just for some case\n",
        "df_known_original = df_known.copy()"
      ],
      "execution_count": null,
      "outputs": []
    },
    {
      "cell_type": "code",
      "metadata": {
        "colab": {
          "base_uri": "https://localhost:8080/"
        },
        "id": "OKsj8A-AeSOT",
        "outputId": "ee3b59e6-96fc-4509-cfaf-85bf4a740759"
      },
      "source": [
        "# Do imputation: replace NAs with mode.\n",
        "for col in df_known.select_dtypes(include='datetime').columns:  # loop over all columns with dates\n",
        "    if df_known[col].isna().sum() > 0:                         # check if there are any missing values there\n",
        "        m = df_known[col].mean(skipna=True)                  # compute the mean\n",
        "        df_known[col].fillna(m, inplace=True)                  # replace missing values with the mean\n",
        "        \n",
        "# make sure if it worked\n",
        "df_known.isna().sum().sum()"
      ],
      "execution_count": null,
      "outputs": [
        {
          "output_type": "execute_result",
          "data": {
            "text/plain": [
              "0"
            ]
          },
          "metadata": {
            "tags": []
          },
          "execution_count": 12
        }
      ]
    },
    {
      "cell_type": "markdown",
      "metadata": {
        "id": "NZ3vNMj6kQmu"
      },
      "source": [
        "# **EDA**\n",
        "**Univariate analysis of categorical variables**\n",
        "\n",
        "Below I check the data for outliers. Variables that I found worth checking are the following: order and delivery dates (make sure they stay within a specific interval), item price, user date of birth, user registration date."
      ]
    },
    {
      "cell_type": "code",
      "metadata": {
        "colab": {
          "base_uri": "https://localhost:8080/",
          "height": 369
        },
        "id": "RW5PF2cY515Y",
        "outputId": "72fd4891-c707-4c43-d796-84275d9cfef3"
      },
      "source": [
        "sns.displot(df_known['order_date']);"
      ],
      "execution_count": null,
      "outputs": [
        {
          "output_type": "display_data",
          "data": {
            "image/png": "[encoded data removed]",
            "text/plain": [
              "<Figure size 360x360 with 1 Axes>"
            ]
          },
          "metadata": {
            "tags": [],
            "needs_background": "light"
          }
        }
      ]
    },
    {
      "cell_type": "code",
      "metadata": {
        "colab": {
          "base_uri": "https://localhost:8080/",
          "height": 369
        },
        "id": "kMYzVZBu_GJY",
        "outputId": "b1862a0b-8dcc-468e-d14f-694bd6289ca0"
      },
      "source": [
        "sns.displot(df_known['delivery_date']);"
      ],
      "execution_count": null,
      "outputs": [
        {
          "output_type": "display_data",
          "data": {
            "image/png": "[encoded data removed]",
            "text/plain": [
              "<Figure size 360x360 with 1 Axes>"
            ]
          },
          "metadata": {
            "tags": [],
            "needs_background": "light"
          }
        }
      ]
    },
    {
      "cell_type": "markdown",
      "metadata": {
        "id": "50qG-IYS_X2u"
      },
      "source": [
        "Order date histogram looks fine: our data is from year 2016, and all orders have been made within the same time period. Delivery date histogram, however, shows an unrealistic pattern. Clearly no order could be delivered, for example,  in year 1996. All the items delivered before 2016 should be considered as outliers."
      ]
    },
    {
      "cell_type": "code",
      "metadata": {
        "colab": {
          "base_uri": "https://localhost:8080/",
          "height": 369
        },
        "id": "YGtDWS9r_Npp",
        "outputId": "b28e085b-4900-4987-9d24-a146c5c6f597"
      },
      "source": [
        "sns.displot(df_known['item_price']);"
      ],
      "execution_count": null,
      "outputs": [
        {
          "output_type": "display_data",
          "data": {
            "image/png": "[encoded data removed]",
            "text/plain": [
              "<Figure size 360x360 with 1 Axes>"
            ]
          },
          "metadata": {
            "tags": [],
            "needs_background": "light"
          }
        }
      ]
    },
    {
      "cell_type": "markdown",
      "metadata": {
        "id": "gtZD7_CdA2gp"
      },
      "source": [
        "Can an item cost 1000 Euros? I would argue that yes, and even more. Clothes of certain brands, for example, might be pretty expensive. Distribution also seems to be realistic: the majority of the items that users ordered is located within the intercval from 0 to 200 Euros, and just some quite expensive items were ordered rarely."
      ]
    },
    {
      "cell_type": "code",
      "metadata": {
        "colab": {
          "base_uri": "https://localhost:8080/",
          "height": 369
        },
        "id": "R5bhHJ6OBokk",
        "outputId": "b4e551d8-ede3-4a84-9bbd-afb5a99d8a4a"
      },
      "source": [
        "sns.displot(df_known['user_dob']);"
      ],
      "execution_count": null,
      "outputs": [
        {
          "output_type": "display_data",
          "data": {
            "image/png": "[encoded data removed]",
            "text/plain": [
              "<Figure size 360x360 with 1 Axes>"
            ]
          },
          "metadata": {
            "tags": [],
            "needs_background": "light"
          }
        }
      ]
    },
    {
      "cell_type": "markdown",
      "metadata": {
        "id": "hJdBnqHsCNTc"
      },
      "source": [
        "Except for some users of age of around 100+ years, we observe a normal distribution (such long \"tails\" are normal for real data). I think, however, that age of a user, like any other demographical data, may not be relevant for our prediction. Therefore it may not be worthy to work on elimination of such outliers."
      ]
    },
    {
      "cell_type": "code",
      "metadata": {
        "colab": {
          "base_uri": "https://localhost:8080/",
          "height": 369
        },
        "id": "pSTFZ6jYD121",
        "outputId": "abdc5835-73e7-474b-a1d3-dcb04e9ad4f0"
      },
      "source": [
        "sns.displot(df_known['user_reg_date']);"
      ],
      "execution_count": null,
      "outputs": [
        {
          "output_type": "display_data",
          "data": {
            "image/png": "[encoded data removed]",
            "text/plain": [
              "<Figure size 360x360 with 1 Axes>"
            ]
          },
          "metadata": {
            "tags": [],
            "needs_background": "light"
          }
        }
      ]
    },
    {
      "cell_type": "markdown",
      "metadata": {
        "id": "yc2YfNqeDfGQ"
      },
      "source": [
        "All the users in our data have been registered between years 2015 and 2016, no outliers."
      ]
    },
    {
      "cell_type": "markdown",
      "metadata": {
        "id": "sPjRalofEZu3"
      },
      "source": [
        "Below I implement outlier truncation and use .apply() function afterwards. "
      ]
    },
    {
      "cell_type": "code",
      "metadata": {
        "id": "lJjK__V-EN_Z"
      },
      "source": [
        "\n",
        "# create a function for identifying and truncating outliers\n",
        "def outlier_truncation(x, factor=1.5):\n",
        "\n",
        "    x_new = x.copy()\n",
        "    \n",
        "    # Calculate IQR\n",
        "    IQR = x.quantile(0.75) - x.quantile(0.25) \n",
        "    \n",
        "    # Define upper/lower bound\n",
        "    upper = x.quantile(0.75) + factor*IQR\n",
        "    lower = x.quantile(0.25) - factor*IQR\n",
        "    \n",
        "    # Truncation\n",
        "    x_new[x < lower] = lower\n",
        "    x_new[x > upper] = upper\n",
        "    \n",
        "    return x_new"
      ],
      "execution_count": null,
      "outputs": []
    },
    {
      "cell_type": "code",
      "metadata": {
        "id": "xTytKG-EHAjP"
      },
      "source": [
        "# select variables for treatment\n",
        "num_cols = [x for x in df_known.columns if df_known[x].dtype == 'datetime64' and x not in ['order_date']] \n",
        "# process every selected column using apply\n",
        "df_known[num_cols] = df_known[num_cols].apply(outlier_truncation, axis=0, args=(3,)) \n",
        "############## this does not seem to work, probably because of the datetime format? i try other ways below ##################"
      ],
      "execution_count": null,
      "outputs": []
    },
    {
      "cell_type": "markdown",
      "metadata": {
        "id": "4xXquGVoryzL"
      },
      "source": [
        "Substitute unrealistic delivery dates with dates that correspond to a realistic delivery time. \n"
      ]
    },
    {
      "cell_type": "code",
      "metadata": {
        "colab": {
          "base_uri": "https://localhost:8080/",
          "height": 198
        },
        "id": "Nv1-WB012AMG",
        "outputId": "c389a9a0-8984-49d9-a215-9500aba162e2"
      },
      "source": [
        "# for convienience, access two columns: order date and delivery date.\n",
        "df = df_known.loc[0:100000, [\"order_date\", \"delivery_date\"]]\n",
        "df.head()"
      ],
      "execution_count": null,
      "outputs": [
        {
          "output_type": "execute_result",
          "data": {
            "text/html": [
              "<div>\n",
              "<style scoped>\n",
              "    .dataframe tbody tr th:only-of-type {\n",
              "        vertical-align: middle;\n",
              "    }\n",
              "\n",
              "    .dataframe tbody tr th {\n",
              "        vertical-align: top;\n",
              "    }\n",
              "\n",
              "    .dataframe thead th {\n",
              "        text-align: right;\n",
              "    }\n",
              "</style>\n",
              "<table border=\"1\" class=\"dataframe\">\n",
              "  <thead>\n",
              "    <tr style=\"text-align: right;\">\n",
              "      <th></th>\n",
              "      <th>order_date</th>\n",
              "      <th>delivery_date</th>\n",
              "    </tr>\n",
              "  </thead>\n",
              "  <tbody>\n",
              "    <tr>\n",
              "      <th>0</th>\n",
              "      <td>2016-06-22</td>\n",
              "      <td>2016-06-27 00:00:00.000000000</td>\n",
              "    </tr>\n",
              "    <tr>\n",
              "      <th>1</th>\n",
              "      <td>2016-06-22</td>\n",
              "      <td>2016-05-06 01:34:39.522085376</td>\n",
              "    </tr>\n",
              "    <tr>\n",
              "      <th>2</th>\n",
              "      <td>2016-06-22</td>\n",
              "      <td>2016-06-27 00:00:00.000000000</td>\n",
              "    </tr>\n",
              "    <tr>\n",
              "      <th>3</th>\n",
              "      <td>2016-06-22</td>\n",
              "      <td>2016-06-27 00:00:00.000000000</td>\n",
              "    </tr>\n",
              "    <tr>\n",
              "      <th>4</th>\n",
              "      <td>2016-06-22</td>\n",
              "      <td>2016-06-27 00:00:00.000000000</td>\n",
              "    </tr>\n",
              "  </tbody>\n",
              "</table>\n",
              "</div>"
            ],
            "text/plain": [
              "  order_date                 delivery_date\n",
              "0 2016-06-22 2016-06-27 00:00:00.000000000\n",
              "1 2016-06-22 2016-05-06 01:34:39.522085376\n",
              "2 2016-06-22 2016-06-27 00:00:00.000000000\n",
              "3 2016-06-22 2016-06-27 00:00:00.000000000\n",
              "4 2016-06-22 2016-06-27 00:00:00.000000000"
            ]
          },
          "metadata": {
            "tags": []
          },
          "execution_count": 22
        }
      ]
    },
    {
      "cell_type": "code",
      "metadata": {
        "colab": {
          "base_uri": "https://localhost:8080/"
        },
        "id": "PxXxciLa7SMg",
        "outputId": "0cf0a592-455b-4732-fd0a-9984612991dc"
      },
      "source": [
        "df.info()  # check the date format"
      ],
      "execution_count": null,
      "outputs": [
        {
          "output_type": "stream",
          "text": [
            "<class 'pandas.core.frame.DataFrame'>\n",
            "RangeIndex: 100000 entries, 0 to 99999\n",
            "Data columns (total 2 columns):\n",
            " #   Column         Non-Null Count   Dtype         \n",
            "---  ------         --------------   -----         \n",
            " 0   order_date     100000 non-null  datetime64[ns]\n",
            " 1   delivery_date  100000 non-null  datetime64[ns]\n",
            "dtypes: datetime64[ns](2)\n",
            "memory usage: 1.5 MB\n"
          ],
          "name": "stdout"
        }
      ]
    },
    {
      "cell_type": "code",
      "metadata": {
        "id": "2xtHbT4KEU9H"
      },
      "source": [
        "# this loop serves an example for the loop below that i am stuck at \n",
        "for col in df_known.select_dtypes(include='datetime').columns:  # loop over all columns with dates\n",
        "    if df_known[col].isna().sum() > 0:                         # check if there are any missing values there\n",
        "        m = df_known[col].mean(skipna=True)                  # compute the mean\n",
        "        df_known[col].fillna(m, inplace=True)                  # replace missing values with the mean"
      ],
      "execution_count": null,
      "outputs": []
    },
    {
      "cell_type": "code",
      "metadata": {
        "colab": {
          "base_uri": "https://localhost:8080/",
          "height": 595
        },
        "id": "8B-noEQ6AT95",
        "outputId": "4a38f050-87a5-4b69-d618-844baff609f2"
      },
      "source": [
        "# this is the loop i am trying to make\n",
        "for deliveries in df_known['delivery_date']: \n",
        "  if df_known[deliveries] < 2016-06-02:\n",
        "    y = df_known[deliveries] + 3\n",
        "    df_known[deliveries].replace(s, old, y)"
      ],
      "execution_count": null,
      "outputs": [
        {
          "output_type": "error",
          "ename": "KeyError",
          "evalue": "ignored",
          "traceback": [
            "\u001b[0;31m---------------------------------------------------------------------------\u001b[0m",
            "\u001b[0;31mKeyError\u001b[0m                                  Traceback (most recent call last)",
            "\u001b[0;32m/usr/local/lib/python3.7/dist-packages/pandas/core/indexes/base.py\u001b[0m in \u001b[0;36mget_loc\u001b[0;34m(self, key, method, tolerance)\u001b[0m\n\u001b[1;32m   2897\u001b[0m             \u001b[0;32mtry\u001b[0m\u001b[0;34m:\u001b[0m\u001b[0;34m\u001b[0m\u001b[0;34m\u001b[0m\u001b[0m\n\u001b[0;32m-> 2898\u001b[0;31m                 \u001b[0;32mreturn\u001b[0m \u001b[0mself\u001b[0m\u001b[0;34m.\u001b[0m\u001b[0m_engine\u001b[0m\u001b[0;34m.\u001b[0m\u001b[0mget_loc\u001b[0m\u001b[0;34m(\u001b[0m\u001b[0mcasted_key\u001b[0m\u001b[0;34m)\u001b[0m\u001b[0;34m\u001b[0m\u001b[0;34m\u001b[0m\u001b[0m\n\u001b[0m\u001b[1;32m   2899\u001b[0m             \u001b[0;32mexcept\u001b[0m \u001b[0mKeyError\u001b[0m \u001b[0;32mas\u001b[0m \u001b[0merr\u001b[0m\u001b[0;34m:\u001b[0m\u001b[0;34m\u001b[0m\u001b[0;34m\u001b[0m\u001b[0m\n",
            "\u001b[0;32mpandas/_libs/index.pyx\u001b[0m in \u001b[0;36mpandas._libs.index.IndexEngine.get_loc\u001b[0;34m()\u001b[0m\n",
            "\u001b[0;32mpandas/_libs/index.pyx\u001b[0m in \u001b[0;36mpandas._libs.index.IndexEngine.get_loc\u001b[0;34m()\u001b[0m\n",
            "\u001b[0;32mpandas/_libs/hashtable_class_helper.pxi\u001b[0m in \u001b[0;36mpandas._libs.hashtable.PyObjectHashTable.get_item\u001b[0;34m()\u001b[0m\n",
            "\u001b[0;32mpandas/_libs/hashtable_class_helper.pxi\u001b[0m in \u001b[0;36mpandas._libs.hashtable.PyObjectHashTable.get_item\u001b[0;34m()\u001b[0m\n",
            "\u001b[0;31mKeyError\u001b[0m: Timestamp('2016-06-27 00:00:00')",
            "\nThe above exception was the direct cause of the following exception:\n",
            "\u001b[0;31mKeyError\u001b[0m                                  Traceback (most recent call last)",
            "\u001b[0;32m<ipython-input-58-6753bcdd0374>\u001b[0m in \u001b[0;36m<module>\u001b[0;34m()\u001b[0m\n\u001b[1;32m      1\u001b[0m \u001b[0;31m# this is the loop i am trying to make\u001b[0m\u001b[0;34m\u001b[0m\u001b[0;34m\u001b[0m\u001b[0;34m\u001b[0m\u001b[0m\n\u001b[1;32m      2\u001b[0m \u001b[0;32mfor\u001b[0m \u001b[0mdeliveries\u001b[0m \u001b[0;32min\u001b[0m \u001b[0mdf_known\u001b[0m\u001b[0;34m[\u001b[0m\u001b[0;34m'delivery_date'\u001b[0m\u001b[0;34m]\u001b[0m\u001b[0;34m:\u001b[0m\u001b[0;34m\u001b[0m\u001b[0;34m\u001b[0m\u001b[0m\n\u001b[0;32m----> 3\u001b[0;31m   \u001b[0;32mif\u001b[0m \u001b[0mdf_known\u001b[0m\u001b[0;34m[\u001b[0m\u001b[0mdeliveries\u001b[0m\u001b[0;34m]\u001b[0m \u001b[0;34m<\u001b[0m \u001b[0;34m\"2016-06-02\"\u001b[0m\u001b[0;34m:\u001b[0m\u001b[0;34m\u001b[0m\u001b[0;34m\u001b[0m\u001b[0m\n\u001b[0m\u001b[1;32m      4\u001b[0m     \u001b[0my\u001b[0m \u001b[0;34m=\u001b[0m \u001b[0mdf_known\u001b[0m\u001b[0;34m[\u001b[0m\u001b[0mdeliveries\u001b[0m\u001b[0;34m]\u001b[0m \u001b[0;34m+\u001b[0m \u001b[0;36m3\u001b[0m\u001b[0;34m\u001b[0m\u001b[0;34m\u001b[0m\u001b[0m\n\u001b[1;32m      5\u001b[0m     \u001b[0mdf_known\u001b[0m\u001b[0;34m[\u001b[0m\u001b[0mdeliveries\u001b[0m\u001b[0;34m]\u001b[0m\u001b[0;34m.\u001b[0m\u001b[0mreplace\u001b[0m\u001b[0;34m(\u001b[0m\u001b[0ms\u001b[0m\u001b[0;34m,\u001b[0m \u001b[0mold\u001b[0m\u001b[0;34m,\u001b[0m \u001b[0my\u001b[0m\u001b[0;34m)\u001b[0m\u001b[0;34m\u001b[0m\u001b[0;34m\u001b[0m\u001b[0m\n",
            "\u001b[0;32m/usr/local/lib/python3.7/dist-packages/pandas/core/frame.py\u001b[0m in \u001b[0;36m__getitem__\u001b[0;34m(self, key)\u001b[0m\n\u001b[1;32m   2904\u001b[0m             \u001b[0;32mif\u001b[0m \u001b[0mself\u001b[0m\u001b[0;34m.\u001b[0m\u001b[0mcolumns\u001b[0m\u001b[0;34m.\u001b[0m\u001b[0mnlevels\u001b[0m \u001b[0;34m>\u001b[0m \u001b[0;36m1\u001b[0m\u001b[0;34m:\u001b[0m\u001b[0;34m\u001b[0m\u001b[0;34m\u001b[0m\u001b[0m\n\u001b[1;32m   2905\u001b[0m                 \u001b[0;32mreturn\u001b[0m \u001b[0mself\u001b[0m\u001b[0;34m.\u001b[0m\u001b[0m_getitem_multilevel\u001b[0m\u001b[0;34m(\u001b[0m\u001b[0mkey\u001b[0m\u001b[0;34m)\u001b[0m\u001b[0;34m\u001b[0m\u001b[0;34m\u001b[0m\u001b[0m\n\u001b[0;32m-> 2906\u001b[0;31m             \u001b[0mindexer\u001b[0m \u001b[0;34m=\u001b[0m \u001b[0mself\u001b[0m\u001b[0;34m.\u001b[0m\u001b[0mcolumns\u001b[0m\u001b[0;34m.\u001b[0m\u001b[0mget_loc\u001b[0m\u001b[0;34m(\u001b[0m\u001b[0mkey\u001b[0m\u001b[0;34m)\u001b[0m\u001b[0;34m\u001b[0m\u001b[0;34m\u001b[0m\u001b[0m\n\u001b[0m\u001b[1;32m   2907\u001b[0m             \u001b[0;32mif\u001b[0m \u001b[0mis_integer\u001b[0m\u001b[0;34m(\u001b[0m\u001b[0mindexer\u001b[0m\u001b[0;34m)\u001b[0m\u001b[0;34m:\u001b[0m\u001b[0;34m\u001b[0m\u001b[0;34m\u001b[0m\u001b[0m\n\u001b[1;32m   2908\u001b[0m                 \u001b[0mindexer\u001b[0m \u001b[0;34m=\u001b[0m \u001b[0;34m[\u001b[0m\u001b[0mindexer\u001b[0m\u001b[0;34m]\u001b[0m\u001b[0;34m\u001b[0m\u001b[0;34m\u001b[0m\u001b[0m\n",
            "\u001b[0;32m/usr/local/lib/python3.7/dist-packages/pandas/core/indexes/base.py\u001b[0m in \u001b[0;36mget_loc\u001b[0;34m(self, key, method, tolerance)\u001b[0m\n\u001b[1;32m   2898\u001b[0m                 \u001b[0;32mreturn\u001b[0m \u001b[0mself\u001b[0m\u001b[0;34m.\u001b[0m\u001b[0m_engine\u001b[0m\u001b[0;34m.\u001b[0m\u001b[0mget_loc\u001b[0m\u001b[0;34m(\u001b[0m\u001b[0mcasted_key\u001b[0m\u001b[0;34m)\u001b[0m\u001b[0;34m\u001b[0m\u001b[0;34m\u001b[0m\u001b[0m\n\u001b[1;32m   2899\u001b[0m             \u001b[0;32mexcept\u001b[0m \u001b[0mKeyError\u001b[0m \u001b[0;32mas\u001b[0m \u001b[0merr\u001b[0m\u001b[0;34m:\u001b[0m\u001b[0;34m\u001b[0m\u001b[0;34m\u001b[0m\u001b[0m\n\u001b[0;32m-> 2900\u001b[0;31m                 \u001b[0;32mraise\u001b[0m \u001b[0mKeyError\u001b[0m\u001b[0;34m(\u001b[0m\u001b[0mkey\u001b[0m\u001b[0;34m)\u001b[0m \u001b[0;32mfrom\u001b[0m \u001b[0merr\u001b[0m\u001b[0;34m\u001b[0m\u001b[0;34m\u001b[0m\u001b[0m\n\u001b[0m\u001b[1;32m   2901\u001b[0m \u001b[0;34m\u001b[0m\u001b[0m\n\u001b[1;32m   2902\u001b[0m         \u001b[0;32mif\u001b[0m \u001b[0mtolerance\u001b[0m \u001b[0;32mis\u001b[0m \u001b[0;32mnot\u001b[0m \u001b[0;32mNone\u001b[0m\u001b[0;34m:\u001b[0m\u001b[0;34m\u001b[0m\u001b[0;34m\u001b[0m\u001b[0m\n",
            "\u001b[0;31mKeyError\u001b[0m: Timestamp('2016-06-27 00:00:00')"
          ]
        }
      ]
    }
  ]
}